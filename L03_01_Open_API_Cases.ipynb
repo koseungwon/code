{
 "cells": [
  {
   "cell_type": "markdown",
   "metadata": {},
   "source": [
    "# 환율정보 API"
   ]
  },
  {
   "cell_type": "code",
   "execution_count": 1,
   "metadata": {},
   "outputs": [],
   "source": [
    "import urllib\n",
    "import json"
   ]
  },
  {
   "cell_type": "code",
   "execution_count": 2,
   "metadata": {},
   "outputs": [],
   "source": [
    "mykey = 'xRspfXAZGtxemNXfeo8HyI8M6Cvpu5wg'\n",
    "mydate= '20191231'\n",
    "mydata = 'AP01'"
   ]
  },
  {
   "cell_type": "code",
   "execution_count": 3,
   "metadata": {},
   "outputs": [],
   "source": [
    "url = 'https://www.koreaexim.go.kr/site/program/financial/exchangeJSON?authkey='+mykey+'&searchdate='+mydate+'&data='+mydata\n",
    "url"
   ]
  },
  {
   "cell_type": "code",
   "execution_count": 4,
   "metadata": {},
   "outputs": [
    {
     "name": "stdout",
     "output_type": "stream",
     "text": [
      "200\n"
     ]
    }
   ],
   "source": [
    "res = urllib.request.Request(url)\n",
    "response = urllib.request.urlopen(res)\n",
    "rescode = response.getcode()\n",
    "print(rescode)"
   ]
  },
  {
   "cell_type": "code",
   "execution_count": 5,
   "metadata": {},
   "outputs": [
    {
     "data": {
      "text/plain": [
       "[{'result': 1,\n",
       "  'cur_unit': 'AED',\n",
       "  'ttb': '312.05',\n",
       "  'tts': '318.36',\n",
       "  'deal_bas_r': '315.21',\n",
       "  'bkpr': '315',\n",
       "  'yy_efee_r': '0',\n",
       "  'ten_dd_efee_r': '0',\n",
       "  'kftc_bkpr': '315',\n",
       "  'kftc_deal_bas_r': '315.21',\n",
       "  'cur_nm': '아랍에미리트 디르함'},\n",
       " {'result': 1,\n",
       "  'cur_unit': 'AUD',\n",
       "  'ttb': '802.23',\n",
       "  'tts': '818.44',\n",
       "  'deal_bas_r': '810.34',\n",
       "  'bkpr': '810',\n",
       "  'yy_efee_r': '0',\n",
       "  'ten_dd_efee_r': '0',\n",
       "  'kftc_bkpr': '810',\n",
       "  'kftc_deal_bas_r': '810.34',\n",
       "  'cur_nm': '호주 달러'},\n",
       " {'result': 1,\n",
       "  'cur_unit': 'BHD',\n",
       "  'ttb': '3,039.89',\n",
       "  'tts': '3,101.3',\n",
       "  'deal_bas_r': '3,070.6',\n",
       "  'bkpr': '3,070',\n",
       "  'yy_efee_r': '0',\n",
       "  'ten_dd_efee_r': '0',\n",
       "  'kftc_bkpr': '3,070',\n",
       "  'kftc_deal_bas_r': '3,070.6',\n",
       "  'cur_nm': '바레인 디나르'},\n",
       " {'result': 1,\n",
       "  'cur_unit': 'BND',\n",
       "  'ttb': '849.96',\n",
       "  'tts': '867.13',\n",
       "  'deal_bas_r': '858.55',\n",
       "  'bkpr': '858',\n",
       "  'yy_efee_r': '0',\n",
       "  'ten_dd_efee_r': '0',\n",
       "  'kftc_bkpr': '858',\n",
       "  'kftc_deal_bas_r': '858.55',\n",
       "  'cur_nm': '브루나이 달러'},\n",
       " {'result': 1,\n",
       "  'cur_unit': 'CAD',\n",
       "  'ttb': '877.69',\n",
       "  'tts': '895.42',\n",
       "  'deal_bas_r': '886.56',\n",
       "  'bkpr': '886',\n",
       "  'yy_efee_r': '0',\n",
       "  'ten_dd_efee_r': '0',\n",
       "  'kftc_bkpr': '886',\n",
       "  'kftc_deal_bas_r': '886.56',\n",
       "  'cur_nm': '캐나다 달러'},\n",
       " {'result': 1,\n",
       "  'cur_unit': 'CHF',\n",
       "  'ttb': '1,183.56',\n",
       "  'tts': '1,207.47',\n",
       "  'deal_bas_r': '1,195.52',\n",
       "  'bkpr': '1,195',\n",
       "  'yy_efee_r': '0',\n",
       "  'ten_dd_efee_r': '0',\n",
       "  'kftc_bkpr': '1,195',\n",
       "  'kftc_deal_bas_r': '1,195.52',\n",
       "  'cur_nm': '스위스 프랑'},\n",
       " {'result': 1,\n",
       "  'cur_unit': 'CNH',\n",
       "  'ttb': '164.08',\n",
       "  'tts': '167.39',\n",
       "  'deal_bas_r': '165.74',\n",
       "  'bkpr': '165',\n",
       "  'yy_efee_r': '0',\n",
       "  'ten_dd_efee_r': '0',\n",
       "  'kftc_bkpr': '165',\n",
       "  'kftc_deal_bas_r': '165.74',\n",
       "  'cur_nm': '위안화'},\n",
       " {'result': 1,\n",
       "  'cur_unit': 'DKK',\n",
       "  'ttb': '171.84',\n",
       "  'tts': '175.31',\n",
       "  'deal_bas_r': '173.58',\n",
       "  'bkpr': '173',\n",
       "  'yy_efee_r': '0',\n",
       "  'ten_dd_efee_r': '0',\n",
       "  'kftc_bkpr': '173',\n",
       "  'kftc_deal_bas_r': '173.58',\n",
       "  'cur_nm': '덴마아크 크로네'},\n",
       " {'result': 1,\n",
       "  'cur_unit': 'EUR',\n",
       "  'ttb': '1,284.45',\n",
       "  'tts': '1,310.4',\n",
       "  'deal_bas_r': '1,297.43',\n",
       "  'bkpr': '1,297',\n",
       "  'yy_efee_r': '0',\n",
       "  'ten_dd_efee_r': '0',\n",
       "  'kftc_bkpr': '1,297',\n",
       "  'kftc_deal_bas_r': '1,297.43',\n",
       "  'cur_nm': '유로'},\n",
       " {'result': 1,\n",
       "  'cur_unit': 'GBP',\n",
       "  'ttb': '1,503.5',\n",
       "  'tts': '1,533.87',\n",
       "  'deal_bas_r': '1,518.69',\n",
       "  'bkpr': '1,518',\n",
       "  'yy_efee_r': '0',\n",
       "  'ten_dd_efee_r': '0',\n",
       "  'kftc_bkpr': '1,518',\n",
       "  'kftc_deal_bas_r': '1,518.69',\n",
       "  'cur_nm': '영국 파운드'},\n",
       " {'result': 1,\n",
       "  'cur_unit': 'HKD',\n",
       "  'ttb': '147.17',\n",
       "  'tts': '150.14',\n",
       "  'deal_bas_r': '148.66',\n",
       "  'bkpr': '148',\n",
       "  'yy_efee_r': '0',\n",
       "  'ten_dd_efee_r': '0',\n",
       "  'kftc_bkpr': '148',\n",
       "  'kftc_deal_bas_r': '148.66',\n",
       "  'cur_nm': '홍콩 달러'},\n",
       " {'result': 1,\n",
       "  'cur_unit': 'IDR(100)',\n",
       "  'ttb': '8.22',\n",
       "  'tts': '8.39',\n",
       "  'deal_bas_r': '8.31',\n",
       "  'bkpr': '8',\n",
       "  'yy_efee_r': '0',\n",
       "  'ten_dd_efee_r': '0',\n",
       "  'kftc_bkpr': '8',\n",
       "  'kftc_deal_bas_r': '8.31',\n",
       "  'cur_nm': '인도네시아 루피아'},\n",
       " {'result': 1,\n",
       "  'cur_unit': 'JPY(100)',\n",
       "  'ttb': '1,052.83',\n",
       "  'tts': '1,074.1',\n",
       "  'deal_bas_r': '1,063.47',\n",
       "  'bkpr': '1,063',\n",
       "  'yy_efee_r': '0',\n",
       "  'ten_dd_efee_r': '0',\n",
       "  'kftc_bkpr': '1,063',\n",
       "  'kftc_deal_bas_r': '1,063.47',\n",
       "  'cur_nm': '일본 옌'},\n",
       " {'result': 1,\n",
       "  'cur_unit': 'KRW',\n",
       "  'ttb': '0',\n",
       "  'tts': '0',\n",
       "  'deal_bas_r': '1',\n",
       "  'bkpr': '1',\n",
       "  'yy_efee_r': '0',\n",
       "  'ten_dd_efee_r': '0',\n",
       "  'kftc_bkpr': '1',\n",
       "  'kftc_deal_bas_r': '1',\n",
       "  'cur_nm': '한국 원'},\n",
       " {'result': 1,\n",
       "  'cur_unit': 'KWD',\n",
       "  'ttb': '3,780.91',\n",
       "  'tts': '3,857.3',\n",
       "  'deal_bas_r': '3,819.11',\n",
       "  'bkpr': '3,819',\n",
       "  'yy_efee_r': '0',\n",
       "  'ten_dd_efee_r': '0',\n",
       "  'kftc_bkpr': '3,819',\n",
       "  'kftc_deal_bas_r': '3,819.11',\n",
       "  'cur_nm': '쿠웨이트 디나르'},\n",
       " {'result': 1,\n",
       "  'cur_unit': 'MYR',\n",
       "  'ttb': '279.12',\n",
       "  'tts': '284.75',\n",
       "  'deal_bas_r': '281.94',\n",
       "  'bkpr': '281',\n",
       "  'yy_efee_r': '0',\n",
       "  'ten_dd_efee_r': '0',\n",
       "  'kftc_bkpr': '281',\n",
       "  'kftc_deal_bas_r': '281.94',\n",
       "  'cur_nm': '말레이지아 링기트'},\n",
       " {'result': 1,\n",
       "  'cur_unit': 'NOK',\n",
       "  'ttb': '129.99',\n",
       "  'tts': '132.62',\n",
       "  'deal_bas_r': '131.31',\n",
       "  'bkpr': '131',\n",
       "  'yy_efee_r': '0',\n",
       "  'ten_dd_efee_r': '0',\n",
       "  'kftc_bkpr': '131',\n",
       "  'kftc_deal_bas_r': '131.31',\n",
       "  'cur_nm': '노르웨이 크로네'},\n",
       " {'result': 1,\n",
       "  'cur_unit': 'NZD',\n",
       "  'ttb': '771.28',\n",
       "  'tts': '786.87',\n",
       "  'deal_bas_r': '779.08',\n",
       "  'bkpr': '779',\n",
       "  'yy_efee_r': '0',\n",
       "  'ten_dd_efee_r': '0',\n",
       "  'kftc_bkpr': '779',\n",
       "  'kftc_deal_bas_r': '779.08',\n",
       "  'cur_nm': '뉴질랜드 달러'},\n",
       " {'result': 1,\n",
       "  'cur_unit': 'SAR',\n",
       "  'ttb': '305.55',\n",
       "  'tts': '311.72',\n",
       "  'deal_bas_r': '308.64',\n",
       "  'bkpr': '308',\n",
       "  'yy_efee_r': '0',\n",
       "  'ten_dd_efee_r': '0',\n",
       "  'kftc_bkpr': '308',\n",
       "  'kftc_deal_bas_r': '308.64',\n",
       "  'cur_nm': '사우디 리얄'},\n",
       " {'result': 1,\n",
       "  'cur_unit': 'SEK',\n",
       "  'ttb': '122.62',\n",
       "  'tts': '125.09',\n",
       "  'deal_bas_r': '123.86',\n",
       "  'bkpr': '123',\n",
       "  'yy_efee_r': '0',\n",
       "  'ten_dd_efee_r': '0',\n",
       "  'kftc_bkpr': '123',\n",
       "  'kftc_deal_bas_r': '123.86',\n",
       "  'cur_nm': '스웨덴 크로나'},\n",
       " {'result': 1,\n",
       "  'cur_unit': 'SGD',\n",
       "  'ttb': '849.96',\n",
       "  'tts': '867.13',\n",
       "  'deal_bas_r': '858.55',\n",
       "  'bkpr': '858',\n",
       "  'yy_efee_r': '0',\n",
       "  'ten_dd_efee_r': '0',\n",
       "  'kftc_bkpr': '858',\n",
       "  'kftc_deal_bas_r': '858.55',\n",
       "  'cur_nm': '싱가포르 달러'},\n",
       " {'result': 1,\n",
       "  'cur_unit': 'THB',\n",
       "  'ttb': '38.27',\n",
       "  'tts': '39.04',\n",
       "  'deal_bas_r': '38.66',\n",
       "  'bkpr': '38',\n",
       "  'yy_efee_r': '0',\n",
       "  'ten_dd_efee_r': '0',\n",
       "  'kftc_bkpr': '38',\n",
       "  'kftc_deal_bas_r': '38.66',\n",
       "  'cur_nm': '태국 바트'},\n",
       " {'result': 1,\n",
       "  'cur_unit': 'USD',\n",
       "  'ttb': '1,146.22',\n",
       "  'tts': '1,169.37',\n",
       "  'deal_bas_r': '1,157.8',\n",
       "  'bkpr': '1,157',\n",
       "  'yy_efee_r': '0',\n",
       "  'ten_dd_efee_r': '0',\n",
       "  'kftc_bkpr': '1,157',\n",
       "  'kftc_deal_bas_r': '1,157.8',\n",
       "  'cur_nm': '미국 달러'}]"
      ]
     },
     "execution_count": 5,
     "metadata": {},
     "output_type": "execute_result"
    }
   ],
   "source": [
    "results = json.load(response)\n",
    "results"
   ]
  },
  {
   "cell_type": "code",
   "execution_count": 6,
   "metadata": {
    "scrolled": true
   },
   "outputs": [
    {
     "data": {
      "text/plain": [
       "{'AED': '312.05',\n",
       " 'AUD': '802.23',\n",
       " 'BHD': '3,039.89',\n",
       " 'BND': '849.96',\n",
       " 'CAD': '877.69',\n",
       " 'CHF': '1,183.56',\n",
       " 'CNH': '164.08',\n",
       " 'DKK': '171.84',\n",
       " 'EUR': '1,284.45',\n",
       " 'GBP': '1,503.5',\n",
       " 'HKD': '147.17',\n",
       " 'IDR(100)': '8.22',\n",
       " 'JPY(100)': '1,052.83',\n",
       " 'KRW': '0',\n",
       " 'KWD': '3,780.91',\n",
       " 'MYR': '279.12',\n",
       " 'NOK': '129.99',\n",
       " 'NZD': '771.28',\n",
       " 'SAR': '305.55',\n",
       " 'SEK': '122.62',\n",
       " 'SGD': '849.96',\n",
       " 'THB': '38.27',\n",
       " 'USD': '1,146.22'}"
      ]
     },
     "execution_count": 6,
     "metadata": {},
     "output_type": "execute_result"
    }
   ],
   "source": [
    "{i['cur_unit']:i['ttb'] for i in results}"
   ]
  },
  {
   "cell_type": "markdown",
   "metadata": {},
   "source": [
    "## 네이버 파파고 번역기 API"
   ]
  },
  {
   "cell_type": "code",
   "execution_count": 7,
   "metadata": {},
   "outputs": [],
   "source": [
    "my_id = 'EJ5o632yyNXpKxnvCRjc'\n",
    "my_key = '55RS2oKf7S'"
   ]
  },
  {
   "cell_type": "code",
   "execution_count": 8,
   "metadata": {},
   "outputs": [
    {
     "data": {
      "text/plain": [
       "'%EB%A7%8C%EB%82%98%EC%84%9C%20%EB%B0%98%EA%B0%91%EC%8A%B5%EB%8B%88%EB%8B%A4'"
      ]
     },
     "execution_count": 8,
     "metadata": {},
     "output_type": "execute_result"
    }
   ],
   "source": [
    "s = 'ko'\n",
    "t = 'en'\n",
    "txt = '만나서 반갑습니다'\n",
    "txt = urllib.parse.quote(txt)\n",
    "txt"
   ]
  },
  {
   "cell_type": "code",
   "execution_count": 9,
   "metadata": {},
   "outputs": [
    {
     "data": {
      "text/plain": [
       "'source=ko&target=en&text=%EB%A7%8C%EB%82%98%EC%84%9C%20%EB%B0%98%EA%B0%91%EC%8A%B5%EB%8B%88%EB%8B%A4'"
      ]
     },
     "execution_count": 9,
     "metadata": {},
     "output_type": "execute_result"
    }
   ],
   "source": [
    "data = 'source='+s+'&target='+t+'&text='+txt\n",
    "data"
   ]
  },
  {
   "cell_type": "code",
   "execution_count": 10,
   "metadata": {},
   "outputs": [
    {
     "name": "stdout",
     "output_type": "stream",
     "text": [
      "200\n"
     ]
    }
   ],
   "source": [
    "url = 'https://openapi.naver.com/v1/papago/n2mt'\n",
    "res = urllib.request.Request(url)\n",
    "res.add_header(\"X-Naver-Client-Id\", my_id)\n",
    "res.add_header(\"X-Naver-Client-Secret\", my_key)\n",
    "response = urllib.request.urlopen(res, data=data.encode(\"utf-8\"))\n",
    "rescode = response.getcode()\n",
    "print(rescode)"
   ]
  },
  {
   "cell_type": "code",
   "execution_count": 11,
   "metadata": {},
   "outputs": [
    {
     "data": {
      "text/plain": [
       "{'message': {'@type': 'response',\n",
       "  '@service': 'naverservice.nmt.proxy',\n",
       "  '@version': '1.0.0',\n",
       "  'result': {'srcLangType': 'ko',\n",
       "   'tarLangType': 'en',\n",
       "   'translatedText': 'Nice to meet you.',\n",
       "   'engineType': 'N2MT',\n",
       "   'pivot': None}}}"
      ]
     },
     "execution_count": 11,
     "metadata": {},
     "output_type": "execute_result"
    }
   ],
   "source": [
    "results = json.load(response)\n",
    "results"
   ]
  },
  {
   "cell_type": "code",
   "execution_count": 12,
   "metadata": {},
   "outputs": [
    {
     "data": {
      "text/plain": [
       "'Nice to meet you.'"
      ]
     },
     "execution_count": 12,
     "metadata": {},
     "output_type": "execute_result"
    }
   ],
   "source": [
    "results['message']['result']['translatedText']"
   ]
  }
 ],
 "metadata": {
  "kernelspec": {
   "display_name": "Python 3",
   "language": "python",
   "name": "python3"
  },
  "language_info": {
   "codemirror_mode": {
    "name": "ipython",
    "version": 3
   },
   "file_extension": ".py",
   "mimetype": "text/x-python",
   "name": "python",
   "nbconvert_exporter": "python",
   "pygments_lexer": "ipython3",
   "version": "3.8.3"
  }
 },
 "nbformat": 4,
 "nbformat_minor": 4
}
